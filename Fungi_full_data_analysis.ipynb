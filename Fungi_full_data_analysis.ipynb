{
 "cells": [
  {
   "cell_type": "markdown",
   "id": "58e5957b",
   "metadata": {},
   "source": [
    "### import"
   ]
  },
  {
   "cell_type": "code",
   "execution_count": null,
   "id": "9ceacf1a",
   "metadata": {
    "ExecuteTime": {
     "end_time": "2023-04-26T13:38:44.172539Z",
     "start_time": "2023-04-26T13:38:44.165158Z"
    }
   },
   "outputs": [],
   "source": [
    "import scanpy as sc\n",
    "import scirpy as ir\n",
    "import pandas as pd\n",
    "import seaborn as sns\n",
    "import matplotlib.pyplot as plt\n",
    "import numpy as np\n",
    "\n",
    "import random\n",
    "random.seed(42)"
   ]
  },
  {
   "cell_type": "code",
   "execution_count": null,
   "id": "af8b6a9b",
   "metadata": {
    "ExecuteTime": {
     "end_time": "2023-04-26T13:38:44.491562Z",
     "start_time": "2023-04-26T13:38:44.476135Z"
    },
    "code_folding": [
     0,
     9
    ]
   },
   "outputs": [],
   "source": [
    "def gini(x):\n",
    "    total = 0\n",
    "    sorted_x = np.sort(x)\n",
    "    for i, xi in enumerate(sorted_x[:-1], 1):\n",
    "        total += np.sum(np.abs(xi - sorted_x[i:]))\n",
    "    return total / (len(sorted_x)**2 * np.mean(sorted_x))\n",
    "\n",
    "def pivot_table(v1, v2, N='N'):\n",
    "    \"\"\"\n",
    "    Aggregates two identically indexed pd.Series into a table with amount of pairs (v1.x, v2.y) in a cell\n",
    "    :param v1: pd.Series\n",
    "    :param v2: pd.Series\n",
    "    :return: pd.DataFrame pivot table\n",
    "    \"\"\"\n",
    "\n",
    "    sub_df = pd.DataFrame({'V1':v1,\n",
    "                           'V2':v2})\n",
    "    sub_df['N'] = 1\n",
    "\n",
    "    return pd.pivot_table(data=sub_df, columns='V1',\n",
    "                          index='V2', values='N', aggfunc=sum).fillna(0).astype(int)"
   ]
  },
  {
   "cell_type": "code",
   "execution_count": null,
   "id": "1f21433d",
   "metadata": {
    "ExecuteTime": {
     "end_time": "2023-04-26T13:38:44.910686Z",
     "start_time": "2023-04-26T13:38:44.896198Z"
    }
   },
   "outputs": [],
   "source": [
    "sc.set_figure_params(scanpy=True, dpi=80, dpi_save=200, frameon=True, vector_friendly=True, fontsize=14,\n",
    "                     figsize=(4,4),\n",
    "                     color_map=None, format='png',\n",
    "                     facecolor=None, transparent=False, ipython_format='png2x')\n",
    "\n",
    "cluster_colors = {\n",
    "    'Th1-cytotoxic': '#762a83',\n",
    "    'Effector/Th17': '#B7C6E1',\n",
    "    'Early effector memory': '#C4E8E4',\n",
    "    'Transitional memory': '#c4b8a7',\n",
    "    'Central memory': '#FFC285',\n",
    "    'Tfh/Tfr-like': '#182230',\n",
    "    'Type I IFN signature': '#d92e61',\n",
    "    'Th2': '#0000ff'\n",
    "}\n",
    "\n",
    "diagnosis_colors = {'CD':'#F80106', 'HD':'#484748'}"
   ]
  },
  {
   "cell_type": "markdown",
   "id": "5cfe378e",
   "metadata": {},
   "source": [
    "## Data preprocessing "
   ]
  },
  {
   "cell_type": "markdown",
   "id": "0832c623",
   "metadata": {},
   "source": [
    "### load GEX and TCR files"
   ]
  },
  {
   "cell_type": "code",
   "execution_count": null,
   "id": "28aec700",
   "metadata": {
    "ExecuteTime": {
     "end_time": "2023-04-26T13:40:34.504949Z",
     "start_time": "2023-04-26T13:40:10.543939Z"
    }
   },
   "outputs": [],
   "source": [
    "samples_list = [\n",
    "    'Calbicans_2',\n",
    "    'Calbicans_20211012CDpatient',\n",
    "    'Calbicans_20211018Healthy3',\n",
    "    'Calbicans_20211020CDpatient2',\n",
    "    'Ctropicalis_2',\n",
    "    'Ctropicalis_20211012CDpatient',\n",
    "    'Ctropicalis_20211018Healthy3',\n",
    "    'Ctropicalis_20211020CDpatient2',\n",
    "    'Scerevisiae_2',\n",
    "    'Scerevisiae_20211012CDpatient',\n",
    "    'Scerevisiae_20211018Healthy3',\n",
    "    'Scerevisiae_20211020CDpatient2',\n",
    "    'Calbicans_20211115Healthy4',\n",
    "    'Scerevisiae_20211115Healthy4',\n",
    "    'Ctropicalis_20211115Healthy4',\n",
    "    'Fungi_CD3_Calbicans',\n",
    "    'Fungi_CD3_Ctropicalis',\n",
    "    'Fungi_CD3_Scerevisiae'\n",
    "               ]\n",
    "\n",
    "fungi_adatas = []\n",
    "for sample in samples_list:\n",
    "    print(sample)\n",
    "    adata = sc.read_10x_h5(f'/mnt/medcluster/10x_raw/fungi_h5ad/{sample}/filtered_feature_bc_matrix.h5',gex_only=False)\n",
    "    adata.var_names_make_unique()\n",
    "    #CITE\n",
    "    protein = adata[:, adata.var[\"feature_types\"] == \"Antibody Capture\"].copy()\n",
    "    hash_df = protein.to_df().idxmax(axis=1).map({'HASHTAG1':'IFNG',\n",
    "    'HASHTAG2':'DN',\n",
    "    'HASHTAG3':'IL17',\n",
    "     'IFNG':'IFNG',\n",
    "    'IFNg':'IFNG',\n",
    "    'IL17':'IL17',\n",
    "    'DN':'DN'\n",
    "            })\n",
    "    adata.obs['cell_subtype'] = hash_df\n",
    "    #TCR\n",
    "    adata_tcr = ir.io.read_10x_vdj(f'/mnt/medcluster/10x_raw/fungi_tcr/{sample}/filtered_contig_annotations.csv')\n",
    "    ir.pp.merge_with_ir(adata, adata_tcr)\n",
    "    fungi_adatas.append(adata)\n",
    "    \n",
    "\n",
    "fungi = fungi_adatas[0].concatenate(fungi_adatas[1:], batch_categories=samples_list+new_samples_list+newest_samples_list)"
   ]
  },
  {
   "cell_type": "code",
   "execution_count": null,
   "id": "1f38eaee",
   "metadata": {
    "ExecuteTime": {
     "end_time": "2023-04-19T16:08:13.374464Z",
     "start_time": "2023-04-19T16:08:13.364937Z"
    }
   },
   "outputs": [],
   "source": [
    "antigen_species_map = {\n",
    " 'Calbicans_2':'Calbicans',\n",
    " 'Calbicans_20211012CDpatient':'Calbicans',\n",
    " 'Calbicans_20211018Healthy3':'Calbicans',\n",
    " 'Calbicans_20211020CDpatient2':'Calbicans',\n",
    " 'Ctropicalis_2':'Ctropicalis',\n",
    " 'Ctropicalis_20211012CDpatient':'Ctropicalis',\n",
    " 'Ctropicalis_20211018Healthy3':'Ctropicalis',\n",
    " 'Ctropicalis_20211020CDpatient2':'Ctropicalis',\n",
    "    'Ctropicalis_20211115Healthy4':'Ctropicalis',\n",
    " 'Scerevisiae_2':'Scerevisiae',\n",
    " 'Scerevisiae_20211012CDpatient':'Scerevisiae',\n",
    " 'Scerevisiae_20211018Healthy3':'Scerevisiae',\n",
    " 'Scerevisiae_20211020CDpatient2':'Scerevisiae',\n",
    " 'DHanseni_2':'DHanseni',\n",
    " 'Dhanseni_20211018Healthy3':'DHanseni',\n",
    " 'Calbicans_20211115Healthy4':'Calbicans',\n",
    " 'Fungi_CD3_Calbicans':'Calbicans',\n",
    " 'Fungi_CD3_Ctropicalis':'Ctropicalis',\n",
    " 'Fungi_CD3_Scerevisiae':'Scerevisiae',\n",
    "          'Scerevisiae_20211115Healthy4':'Scerevisiae',\n",
    "    'Dhanseni_20211115Healthy4':'DHanseni'\n",
    "}\n",
    "fungi.obs['antigen_species'] = fungi.obs['batch'].map(antigen_species_map)"
   ]
  },
  {
   "cell_type": "code",
   "execution_count": null,
   "id": "467b092a",
   "metadata": {
    "ExecuteTime": {
     "end_time": "2023-04-19T16:08:28.353136Z",
     "start_time": "2023-04-19T16:08:28.325047Z"
    }
   },
   "outputs": [],
   "source": [
    "donor_map = {\n",
    " 'Calbicans_2':'HD1',\n",
    " 'Calbicans_20211012CDpatient':'CD1',\n",
    " 'Calbicans_20211018Healthy3':'HD2',\n",
    " 'Calbicans_20211020CDpatient2':'CD2',\n",
    " 'Ctropicalis_2':'HD1',\n",
    " 'Ctropicalis_20211012CDpatient':'CD1',\n",
    " 'Ctropicalis_20211018Healthy3':'HD2',\n",
    " 'Ctropicalis_20211020CDpatient2':'CD2',\n",
    " 'Scerevisiae_2':'HD1',\n",
    " 'Scerevisiae_20211012CDpatient':'CD1',\n",
    " 'Scerevisiae_20211018Healthy3':'HD2',\n",
    " 'Scerevisiae_20211020CDpatient2':'CD2',\n",
    " 'DHanseni_2':'HD1',\n",
    " 'Dhanseni_20211018Healthy3':'HD2',\n",
    " 'Calbicans_20211115Healthy4':'HD3',\n",
    "'Ctropicalis_20211115Healthy4':'HD3',\n",
    " 'Fungi_CD3_Calbicans':'CD3',\n",
    " 'Fungi_CD3_Ctropicalis':'CD3',\n",
    " 'Fungi_CD3_Scerevisiae':'CD3',\n",
    "       'Scerevisiae_20211115Healthy4':'HD3',\n",
    "    'Dhanseni_20211115Healthy4':'HD3'\n",
    "}\n",
    "fungi.obs['donor'] = fungi.obs['batch'].map(donor_map)\n",
    "fungi.obs['diagnosis'] = fungi.obs['donor'].apply(lambda x: x[:2])"
   ]
  },
  {
   "cell_type": "code",
   "execution_count": null,
   "id": "29e07e8b",
   "metadata": {
    "ExecuteTime": {
     "end_time": "2023-04-19T16:30:44.258532Z",
     "start_time": "2023-04-19T16:30:16.166739Z"
    }
   },
   "outputs": [],
   "source": [
    "sc.write('final_fungi.h5ad', fungi)"
   ]
  },
  {
   "cell_type": "code",
   "execution_count": null,
   "id": "f137faf2",
   "metadata": {
    "ExecuteTime": {
     "end_time": "2023-04-19T16:17:48.243284Z",
     "start_time": "2023-04-19T16:17:36.995246Z"
    }
   },
   "outputs": [],
   "source": [
    "fungi = sc.read_h5ad('final_fungi.h5ad')"
   ]
  },
  {
   "cell_type": "markdown",
   "id": "c99dfe19",
   "metadata": {},
   "source": [
    "### QC"
   ]
  },
  {
   "cell_type": "code",
   "execution_count": null,
   "id": "2ed57aa8",
   "metadata": {
    "ExecuteTime": {
     "end_time": "2023-04-19T15:48:34.701030Z",
     "start_time": "2023-04-19T15:48:31.917587Z"
    }
   },
   "outputs": [],
   "source": [
    "fungi.var['mt'] = fungi.var_names.str.startswith('MT-')  # annotate the group of mitochondrial genes as 'mt'\n",
    "fungi.var['ribo'] = fungi.var_names.str.startswith((\"RPS\",\"RPL\")) # ribosomal genes\n",
    "fungi.var['hb'] = fungi.var_names.str.contains((\"^HB[^(P)]\")) # hemoglobin genes\n",
    "\n",
    "sc.pp.calculate_qc_metrics(fungi, qc_vars=['mt','ribo','hb'], percent_top=None, log1p=False, inplace=True)\n",
    "# plot QC\n",
    "\n",
    "sc.pl.violin(fungi, ['n_genes_by_counts', 'total_counts', 'pct_counts_mt'],\n",
    "             jitter=0.4, multi_panel=True)"
   ]
  },
  {
   "cell_type": "code",
   "execution_count": null,
   "id": "fbb5738e",
   "metadata": {
    "ExecuteTime": {
     "end_time": "2023-04-19T15:48:36.511721Z",
     "start_time": "2023-04-19T15:48:34.702205Z"
    }
   },
   "outputs": [],
   "source": [
    "initial_cells_n = fungi.shape[0]\n",
    "fungi = fungi[fungi.obs.pct_counts_mt < 5, :]\n",
    "fungi = fungi[fungi.obs.n_genes_by_counts > 500, :]\n",
    "fungi = fungi[fungi.obs.total_counts > 1500, :]\n",
    "\n",
    "fungi.layers['counts'] = fungi.X\n",
    "fungi.layers[\"counts_csc\"] = fungi.layers[\"counts\"].tocsc()\n",
    "cells_left = fungi.shape[0]\n",
    "\n",
    "print(f'{cells_left}/{initial_cells_n} cells passed the QC filters')"
   ]
  },
  {
   "cell_type": "code",
   "execution_count": null,
   "id": "8b2e6225",
   "metadata": {
    "ExecuteTime": {
     "end_time": "2023-04-19T15:48:37.875547Z",
     "start_time": "2023-04-19T15:48:36.512745Z"
    }
   },
   "outputs": [],
   "source": [
    "# Normalize and log transform\n",
    "sc.pp.normalize_total(fungi, target_sum=1e4)\n",
    "sc.pp.log1p(fungi)"
   ]
  },
  {
   "cell_type": "code",
   "execution_count": null,
   "id": "0951afb1",
   "metadata": {
    "ExecuteTime": {
     "end_time": "2023-04-19T15:48:42.585676Z",
     "start_time": "2023-04-19T15:48:37.877057Z"
    }
   },
   "outputs": [],
   "source": [
    "# Identify highly variable genes and scale by gene\n",
    "sc.pp.highly_variable_genes(fungi, min_mean=0.0125, max_mean=10, min_disp=0.3)\n",
    "sc.pl.highly_variable_genes(fungi)\n",
    "\n",
    "# remove TCR genes from highly variable\n",
    "fungi.var['TCR'] = fungi.var_names.str.contains((\"TR[ABGD][VJ]\"))\n",
    "fungi.var['highly_variable'] = fungi.var.highly_variable&~fungi.var.TCR\n",
    "\n",
    "fungi.raw = fungi\n",
    "fungi = fungi[:, fungi.var.highly_variable]\n",
    "\n",
    "#sc.pp.regress_out(fungi, ['total_counts', 'pct_counts_mt'], n_jobs=15)\n",
    "sc.pp.scale(fungi, max_value=10, )"
   ]
  },
  {
   "cell_type": "markdown",
   "id": "ad472459",
   "metadata": {},
   "source": [
    "### Batch correction with harmony"
   ]
  },
  {
   "cell_type": "code",
   "execution_count": null,
   "id": "9f6faa4e",
   "metadata": {
    "ExecuteTime": {
     "end_time": "2023-04-19T15:49:32.280886Z",
     "start_time": "2023-04-19T15:48:42.586744Z"
    }
   },
   "outputs": [],
   "source": [
    "sc.tl.pca(fungi, svd_solver='arpack', use_highly_variable=True)\n",
    "sc.pp.neighbors(fungi)\n",
    "sc.tl.umap(fungi)\n",
    "sc.pl.umap(fungi, color=['batch', 'donor','antigen_species'], ncols=1)"
   ]
  },
  {
   "cell_type": "code",
   "execution_count": null,
   "id": "00147b51",
   "metadata": {
    "ExecuteTime": {
     "end_time": "2023-04-19T15:51:13.450239Z",
     "start_time": "2023-04-19T15:49:32.281877Z"
    }
   },
   "outputs": [],
   "source": [
    "# batch correction\n",
    "sc.external.pp.harmony_integrate(fungi, key='donor') \n",
    "sc.pp.neighbors(fungi, use_rep='X_pca_harmony')\n",
    "sc.tl.umap(fungi)\n",
    "sc.pl.umap(fungi, color=['batch', 'donor','antigen_species'], ncols=1)"
   ]
  },
  {
   "cell_type": "markdown",
   "id": "7dfef9f2",
   "metadata": {},
   "source": [
    "## Clustering "
   ]
  },
  {
   "cell_type": "code",
   "execution_count": null,
   "id": "521dd48a",
   "metadata": {
    "ExecuteTime": {
     "end_time": "2023-04-19T16:19:57.474100Z",
     "start_time": "2023-04-19T16:19:57.112347Z"
    },
    "code_folding": []
   },
   "outputs": [],
   "source": [
    "sc.tl.leiden(fungi, key_added='leiden', resolution=0.8)\n",
    "sc.pl.umap(fungi, color='leiden', title='Unsupervised clustering')"
   ]
  },
  {
   "cell_type": "code",
   "execution_count": null,
   "id": "52a9d2b4",
   "metadata": {
    "ExecuteTime": {
     "end_time": "2023-04-19T16:19:29.488852Z",
     "start_time": "2023-04-19T16:19:29.003341Z"
    },
    "code_folding": [
     0
    ]
   },
   "outputs": [],
   "source": [
    "markers = [\n",
    "    'CD14',\n",
    "    'CD79A',\n",
    "    'PRF1',\n",
    "    'GZMB',\n",
    "    'SLAMF7',\n",
    "    'PLEK',\n",
    "    'CCL3',\n",
    "    'CCL4',\n",
    "    'CCL5',\n",
    "    'IFNG',\n",
    "    'TBX21',\n",
    "    'CSF2',\n",
    "    'IL2',\n",
    "    'IL21',\n",
    "    'IL22',\n",
    "    'IL17A',\n",
    "    'CCR7',\n",
    "    'SELL',\n",
    "    'CD27',\n",
    "    'ICOS',\n",
    "    'PDCD1',\n",
    "    'CXCR5',\n",
    "    'POU2AF1',\n",
    "    'CTLA4',\n",
    "    'FOXP3',\n",
    "    'LAG3',\n",
    "    'IL10',\n",
    "    'MX1',\n",
    "    'MX2',\n",
    "    'ISG15',\n",
    "    'ISG20',\n",
    "    'OAS1',\n",
    "    'OAS2',\n",
    "    'IL4',\n",
    "    'IL5',\n",
    "    'IL13',\n",
    "    'GATA3',\n",
    "\n",
    "]\n",
    "sc.pl.dotplot(fungi, var_names=markers, groupby='leiden',standard_scale='var', use_raw=True)"
   ]
  },
  {
   "cell_type": "code",
   "execution_count": null,
   "id": "e9a0a6ae",
   "metadata": {
    "ExecuteTime": {
     "end_time": "2023-04-19T16:15:29.304156Z",
     "start_time": "2023-04-19T16:14:29.001350Z"
    }
   },
   "outputs": [],
   "source": [
    "# remove monocytes and B cells and cluster again\n",
    "fungi = fungi[fungi.obs.leiden!='12']\n",
    "sc.pp.neighbors(fungi, use_rep='X_pca_harmony')\n",
    "sc.tl.paga(fungi)\n",
    "sc.pl.paga(fungi, plot=False)  \n",
    "sc.tl.umap(fungi, init_pos='paga')\n",
    "sc.tl.umap(fungi)\n",
    "sc.tl.leiden(fungi, key_added='leiden', resolution=0.8)\n",
    "sc.pl.umap(fungi, color='leiden', title='Unsupervised clustering')"
   ]
  },
  {
   "cell_type": "code",
   "execution_count": null,
   "id": "69413c7e",
   "metadata": {
    "ExecuteTime": {
     "end_time": "2023-04-19T16:21:20.780069Z",
     "start_time": "2023-04-19T16:21:20.315845Z"
    }
   },
   "outputs": [],
   "source": [
    "sc.pl.dotplot(fungi, var_names=markers[2:], groupby='leiden',standard_scale='var', use_raw=True)"
   ]
  },
  {
   "cell_type": "code",
   "execution_count": null,
   "id": "b2f177d3",
   "metadata": {
    "ExecuteTime": {
     "end_time": "2023-04-19T16:16:27.191892Z",
     "start_time": "2023-04-19T16:16:27.184078Z"
    }
   },
   "outputs": [],
   "source": [
    "cluster_mapping = {\n",
    "    '0':'Th1-cytotoxic',\n",
    "    '1':'Early effector memory',\n",
    "    '2':'Central memory',\n",
    "    '3':'Effector/Th17',\n",
    "    '4':'Transitional memory',\n",
    "    '5':'Transitional memory',\n",
    "    '6':'Transitional memory',\n",
    "    '7':'Central memory',\n",
    "    '8':'Tfh/Tfr-like',\n",
    "    '9':'Type I IFN signature',\n",
    "    '10':'Th2'\n",
    "}\n",
    "fungi.obs['Cluster'] = fungi.obs['leiden'].map(cluster_mapping)"
   ]
  },
  {
   "cell_type": "code",
   "execution_count": null,
   "id": "edb5c395",
   "metadata": {
    "ExecuteTime": {
     "end_time": "2023-04-19T16:31:18.637856Z",
     "start_time": "2023-04-19T16:31:17.023202Z"
    }
   },
   "outputs": [],
   "source": [
    "sc.pl.umap(fungi[fungi.obs.diagnosis=='HD'], color=['Cluster'],ncols=1, palette=cluster_colors,\n",
    "           size=8,\n",
    "           outline_color=('white','white'),\n",
    "           title='Healthy', frameon=False)\n",
    "\n",
    "sc.pl.umap(fungi[fungi.obs.diagnosis=='CD'], color=['Cluster'],ncols=1,\n",
    "           outline_color=('white','white'),\n",
    "           size=8,\n",
    "           palette=cluster_colors, title=\"Crohn's Disease\",frameon=False)"
   ]
  },
  {
   "cell_type": "markdown",
   "id": "6c52eade",
   "metadata": {
    "heading_collapsed": true
   },
   "source": [
    "## TCR analysis"
   ]
  },
  {
   "cell_type": "code",
   "execution_count": null,
   "id": "69a2171a",
   "metadata": {
    "ExecuteTime": {
     "start_time": "2023-04-19T16:16:49.518Z"
    },
    "hidden": true
   },
   "outputs": [],
   "source": [
    "ir.tl.chain_qc(fungi)\n",
    "ir.pp.ir_dist(\n",
    "    fungi,\n",
    "    metric='hamming',\n",
    "    sequence=\"aa\",\n",
    "    n_jobs=7,\n",
    "    cutoff=5,\n",
    ") # computes distances between CDR3 or amino acid sequences\n",
    "\n",
    "ir.tl.define_clonotypes(fungi, receptor_arms=\"VDJ\", dual_ir=\"primary_only\") \n"
   ]
  },
  {
   "cell_type": "code",
   "execution_count": null,
   "id": "00b5bc93",
   "metadata": {
    "ExecuteTime": {
     "end_time": "2023-04-19T16:59:14.363610Z",
     "start_time": "2023-04-19T16:59:14.146116Z"
    },
    "hidden": true
   },
   "outputs": [],
   "source": [
    "fungi = fungi[(fungi.obs['IR_VDJ_1_junction_aa'].notna())] \n"
   ]
  },
  {
   "cell_type": "code",
   "execution_count": null,
   "id": "ae560bc6",
   "metadata": {
    "ExecuteTime": {
     "end_time": "2023-04-19T16:31:35.344841Z",
     "start_time": "2023-04-19T16:31:34.128017Z"
    },
    "hidden": true
   },
   "outputs": [],
   "source": [
    "sc.pl.umap(fungi[(fungi.obs.diagnosis=='HD')&(~fungi.obs.duplicated(['clone_id']))],\n",
    "           color=['Cluster'],\n",
    "           palette=cluster_colors,\n",
    "           size=3*fungi[(fungi.obs.diagnosis=='HD')&(~fungi.obs.duplicated(['clone_id']))].obs.clone_id_size,\n",
    "       #     save='_clone_size_healthy.pdf',\n",
    "           add_outline=True,\n",
    "           outline_width=(0.02,0.01),\n",
    "           outline_color=('white','white'),\n",
    "           title='Healthy',\n",
    "           frameon=False)\n",
    "\n",
    "sc.pl.umap(fungi[(fungi.obs.diagnosis=='CD')&(~fungi.obs.duplicated(['clone_id']))],\n",
    "           color=['Cluster'],\n",
    "      #     save='_clone_size_Crohns.pdf',\n",
    "           add_outline=True,\n",
    "           outline_width=(0.02,0.01),\n",
    "           outline_color=('white','white'),\n",
    "           size=3*fungi[(fungi.obs.diagnosis=='CD')&(~fungi.obs.duplicated(['clone_id']))].obs.clone_id_size,\n",
    "           palette=cluster_colors,\n",
    "           title=\"Crohn's Disease\",\n",
    "           frameon=False)"
   ]
  },
  {
   "cell_type": "markdown",
   "id": "1b9eba2e",
   "metadata": {
    "hidden": true
   },
   "source": [
    "### Gini index"
   ]
  },
  {
   "cell_type": "code",
   "execution_count": null,
   "id": "6341fee9",
   "metadata": {
    "ExecuteTime": {
     "end_time": "2023-04-19T16:55:10.032579Z",
     "start_time": "2023-04-19T16:55:07.572056Z"
    },
    "hidden": true
   },
   "outputs": [],
   "source": [
    "fungi.obs['N'] = 1\n",
    "gb = fungi.obs.groupby(['diagnosis','donor','Cluster','clone_id']).aggregate('count')['N'].reset_index()\n",
    "\n",
    "Gini_all = []\n",
    "for donor in gb.donor.unique():\n",
    "    gb_donor = gb[(gb['donor']==donor)]\n",
    "    clone_counts = pd.pivot_table(data=gb_donor, values='N', index='clone_id', columns='Cluster', aggfunc='sum')\n",
    "    #clone_counts = clone_counts.fillna(0)\n",
    "    gini_donor=clone_counts.apply(lambda col: gini(col[col>0])).to_frame(name='Gini index')\n",
    "    gini_donor['donor'] = donor\n",
    "    gini_donor['diagnosis'] = donor[:2]\n",
    "    Gini_all.append(gini_donor)\n",
    "    \n",
    "\n",
    "Gini_all = pd.concat(Gini_all).reset_index()"
   ]
  },
  {
   "cell_type": "code",
   "execution_count": null,
   "id": "d53270cc",
   "metadata": {
    "ExecuteTime": {
     "end_time": "2023-04-19T16:58:10.441181Z",
     "start_time": "2023-04-19T16:58:09.807847Z"
    },
    "hidden": true
   },
   "outputs": [],
   "source": [
    "fig,ax = plt.subplots(figsize=(5,5))\n",
    "sns.set_style('ticks')\n",
    "sns.boxplot(data=Gini_all, x='Cluster', y='Gini index', hue='diagnosis', palette=diagnosis_colors)\n",
    "sns.swarmplot(data=Gini_all, x='Cluster', y='Gini index', hue='diagnosis', color='black', dodge=True)\n",
    "ax.set_xlabel('')\n",
    "ax.tick_params(axis='x', rotation=90)\n",
    "ax.set_title('Gini index')\n",
    "\n",
    "plt.tight_layout()\n",
    "plt.savefig('figures/Gini_clusters.pdf')"
   ]
  },
  {
   "cell_type": "markdown",
   "id": "c6e12e57",
   "metadata": {
    "hidden": true
   },
   "source": [
    "### Cross-reactivity"
   ]
  },
  {
   "cell_type": "code",
   "execution_count": null,
   "id": "53f3f08d",
   "metadata": {
    "ExecuteTime": {
     "end_time": "2023-04-19T17:13:22.498259Z",
     "start_time": "2023-04-19T17:13:21.326457Z"
    },
    "hidden": true
   },
   "outputs": [],
   "source": [
    "clones_cross = fungi.obs.groupby('clone_id')['antigen_species'].unique().apply(lambda x: ' '.join(sorted(x)))\n",
    "fungi.obs['cross'] = fungi.obs.clone_id.map(clones_cross)\n",
    "\n",
    "order = [\n",
    "  #  'Calbicans', 'Ctropicalis', 'Scerevisiae',\n",
    "    'Calbicans Ctropicalis', 'Calbicans Scerevisiae', 'Ctropicalis Scerevisiae',\n",
    "    'Calbicans Ctropicalis Scerevisiae'\n",
    "]\n",
    "order_diag=[]\n",
    "for x in order:\n",
    "    order_diag.append(x+'_HD')\n",
    "    order_diag.append(x+'_CD')\n",
    "\n",
    "sns.set_style('whitegrid')\n",
    "fig, ax = plt.subplots(1,1, figsize=(5,4))\n",
    "pt = pivot_table(fungi.obs.cross.astype('str')+'_'+fungi.obs.diagnosis.astype('str'), fungi.obs['Cluster'])[order_diag].T\n",
    "\n",
    "\n",
    "pt.plot(kind='bar',\n",
    "        stacked=True,\n",
    "        width=0.9,\n",
    "        linewidth=0.1,              \n",
    "        color=cluster_colors,\n",
    "       ax=ax)\n",
    "ax.legend(bbox_to_anchor=(1, 1), loc=2, borderaxespad=0.1)\n",
    "#ax.set_title(\"Cross-reactive cells\")\n",
    "ax.set_xticklabels(order_diag, rotation=90)\n",
    "ax.set_xlabel('')"
   ]
  },
  {
   "cell_type": "markdown",
   "id": "f1a8e754",
   "metadata": {
    "hidden": true
   },
   "source": [
    "### Data for cytoscape plots"
   ]
  },
  {
   "cell_type": "code",
   "execution_count": null,
   "id": "489b1dcd",
   "metadata": {
    "ExecuteTime": {
     "end_time": "2023-04-19T17:03:55.155389Z",
     "start_time": "2023-04-19T17:03:54.250811Z"
    },
    "hidden": true
   },
   "outputs": [],
   "source": [
    "fungi_nosingle = fungi[fungi.obs.clone_id_size>1]\n",
    "\n",
    "graph_df = fungi_nosingle.obs.groupby(['antigen_species','clone_id']).agg({'N' : sum,\n",
    "             'donor': lambda x: x.unique()[0],\n",
    "                'diagnosis': lambda x: x.unique()[0]})\n",
    "graph_df=graph_df.reset_index()\n",
    "graph_df = graph_df[graph_df['N']!=0]\n",
    "\n",
    "\n",
    "clones_cross = graph_df.groupby('clone_id')['antigen_species'].unique().apply(lambda x: ' '.join(sorted(x)))\n",
    "\n",
    "\n",
    "clone_ann = fungi_nosingle.obs.groupby(['clone_id']).agg({'N' : sum,\n",
    "             'cross': lambda x: x.unique()[0]})\n",
    "clone_ann['cross'] = clones_cross\n",
    "clone_ann['N'] = clone_ann.N.apply(int)\n",
    "clone_ann.to_csv('nodes.csv')"
   ]
  },
  {
   "cell_type": "code",
   "execution_count": null,
   "id": "6034a443",
   "metadata": {
    "ExecuteTime": {
     "end_time": "2023-04-19T17:03:55.175199Z",
     "start_time": "2023-04-19T17:03:55.156641Z"
    },
    "hidden": true
   },
   "outputs": [],
   "source": [
    "for donor in fungi.obs.donor.unique():\n",
    "    graph_df[graph_df.donor==donor].set_index('clone_id').to_csv(f'edges_{donor}.csv')"
   ]
  },
  {
   "cell_type": "markdown",
   "id": "5e5ae0b0",
   "metadata": {},
   "source": [
    "## TCR analysis with downsampling"
   ]
  },
  {
   "cell_type": "code",
   "execution_count": null,
   "id": "c6bb6ea0",
   "metadata": {
    "ExecuteTime": {
     "end_time": "2023-04-19T17:11:32.580354Z",
     "start_time": "2023-04-19T17:11:32.459352Z"
    }
   },
   "outputs": [],
   "source": [
    "downsampled_index = []\n",
    "for batch in fungi.obs.batch.unique():\n",
    "    if fungi.obs[fungi.obs.batch==batch].shape[0]>500:\n",
    "        sample = fungi.obs[fungi.obs.batch==batch].sample(n=500)\n",
    "    else:\n",
    "        sample = fungi.obs[fungi.obs.batch==batch]\n",
    "    downsampled_index.extend(list((sample.index)))\n",
    "fungi_downsampled = fungi[fungi.obs.index.isin(downsampled_index)]"
   ]
  },
  {
   "cell_type": "code",
   "execution_count": null,
   "id": "50146137",
   "metadata": {
    "ExecuteTime": {
     "end_time": "2023-04-19T17:11:36.757888Z",
     "start_time": "2023-04-19T17:11:32.834448Z"
    }
   },
   "outputs": [],
   "source": [
    "ir.tl.chain_qc(fungi_downsampled)\n",
    "ir.pp.ir_dist(\n",
    "    fungi_downsampled,\n",
    "    metric='hamming',\n",
    "    sequence=\"aa\",\n",
    "    n_jobs=7,\n",
    "    cutoff=5,\n",
    ") # computes distances between CDR3 or amino acid sequences\n",
    "\n",
    "ir.tl.define_clonotypes(fungi_downsampled, receptor_arms=\"VDJ\", dual_ir=\"primary_only\") \n"
   ]
  },
  {
   "cell_type": "code",
   "execution_count": null,
   "id": "3813e4cd",
   "metadata": {
    "ExecuteTime": {
     "end_time": "2023-04-19T17:11:58.315114Z",
     "start_time": "2023-04-19T17:11:56.128783Z"
    }
   },
   "outputs": [],
   "source": [
    "sc.pl.umap(fungi_downsampled[(fungi_downsampled.obs.diagnosis=='HD')&(~fungi_downsampled.obs.duplicated(['clone_id']))], color=['Cluster'],ncols=1, palette=cluster_colors,\n",
    "           size=5*fungi_downsampled[(fungi_downsampled.obs.diagnosis=='HD')&(~fungi_downsampled.obs.duplicated(['clone_id']))].obs.clone_id_size,\n",
    "            save='_downsampled_clone_size_healthy.pdf',\n",
    "           add_outline=True,\n",
    "           \n",
    "           outline_width=(0.02,0.01),\n",
    "           outline_color=('white','white'),\n",
    "           title='Healthy', frameon=False)\n",
    "\n",
    "sc.pl.umap(fungi_downsampled[(fungi_downsampled.obs.diagnosis=='CD')&(~fungi_downsampled.obs.duplicated(['clone_id']))], color=['Cluster'],ncols=1,\n",
    "           save='_downsampled_clone_size_Crohns.pdf',\n",
    "           add_outline=True,\n",
    "           outline_width=(0.02,0.01),\n",
    "           outline_color=('white','white'),\n",
    "           size=5*fungi_downsampled[(fungi_downsampled.obs.diagnosis=='CD')&(~fungi_downsampled.obs.duplicated(['clone_id']))].obs.clone_id_size,\n",
    "           palette=cluster_colors, title=\"Crohn's Disease\",frameon=False)"
   ]
  },
  {
   "cell_type": "code",
   "execution_count": null,
   "id": "51c8ee90",
   "metadata": {
    "ExecuteTime": {
     "end_time": "2023-04-19T17:13:43.149941Z",
     "start_time": "2023-04-19T17:13:42.677273Z"
    }
   },
   "outputs": [],
   "source": [
    "clones_cross = fungi_downsampled.obs.groupby('clone_id')['antigen_species'].unique().apply(lambda x: ' '.join(sorted(x)))\n",
    "fungi_downsampled.obs['cross'] = fungi_downsampled.obs.clone_id.map(clones_cross)\n",
    "\n",
    "order = [\n",
    "  #  'Calbicans', 'Ctropicalis', 'Scerevisiae',\n",
    "    'Calbicans Ctropicalis', 'Calbicans Scerevisiae', 'Ctropicalis Scerevisiae',\n",
    "    'Calbicans Ctropicalis Scerevisiae'\n",
    "]\n",
    "order_diag=[]\n",
    "for x in order:\n",
    "    order_diag.append(x+'_HD')\n",
    "    order_diag.append(x+'_CD')\n",
    "\n",
    "sns.set_style('whitegrid')\n",
    "fig, ax = plt.subplots(1,1, figsize=(5,4))\n",
    "pt = pivot_table(fungi_downsampled.obs.cross.astype('str')+'_'+fungi_downsampled.obs.diagnosis.astype('str'), fungi_downsampled.obs['Cluster'])[order_diag].T\n",
    "\n",
    "\n",
    "pt.plot(kind='bar',\n",
    "        stacked=True,\n",
    "        width=0.9,\n",
    "        linewidth=0.1,              \n",
    "        color=cluster_colors,\n",
    "       ax=ax)\n",
    "ax.legend(bbox_to_anchor=(1, 1), loc=2, borderaxespad=0.1)\n",
    "#ax.set_title(\"Cross-reactive cells\")\n",
    "ax.set_xticklabels(order_diag, rotation=90)\n",
    "ax.set_xlabel('')"
   ]
  },
  {
   "cell_type": "code",
   "execution_count": null,
   "id": "c131c9dc",
   "metadata": {
    "ExecuteTime": {
     "end_time": "2023-04-19T17:12:07.871860Z",
     "start_time": "2023-04-19T17:12:07.660153Z"
    }
   },
   "outputs": [],
   "source": [
    "sns.set_style('ticks')\n",
    "\n",
    "fig, axs = plt.subplots(2, 2, figsize=(4, 8))\n",
    "af = axs.flat\n",
    "\n",
    "gb = fungi_downsampled.obs.groupby(['donor','antigen_species','Cluster']).aggregate('count')['N'].reset_index()\n",
    "gb['N_fraction'] = gb.groupby(['donor','antigen_species'])['N'].apply(lambda x: x / x.sum())\n",
    "gb['diagnosis'] = gb['donor'].apply(lambda x: x[:-1])\n",
    "\n",
    "for group in ['Th1-cytotoxic','Effector/Th17']:\n",
    "    ax = next(af)\n",
    "    sns.swarmplot(data=gb[(gb.Cluster==group)&(gb.diagnosis=='HD')],\n",
    "                  x='antigen_species', \n",
    "                  y='N_fraction',\n",
    "                   #  hue='antigen_species',\n",
    "                  color = '#484748',\n",
    "                  dodge=True,\n",
    "                  #palette={'CD':'#F80106'', 'HD':'#484748'},\n",
    "                  ax=ax,\n",
    "                    size=10)\n",
    "    sns.despine()\n",
    "    ax.legend([],[], frameon=False)\n",
    "    #ax.legend(bbox_to_anchor=(1, 1.05))\n",
    "    ax.set_ylabel( 'fraction in sample')\n",
    "    ax.set_title(group)\n",
    "    ax.set_xlabel('')\n",
    "    ax.set_ylim(0,0.75)\n",
    "    ax.tick_params('x', rotation=90)\n",
    "    #ax.set_title('')\n",
    "    \n",
    "    ax = next(af)\n",
    "    sns.swarmplot(data=gb[(gb.Cluster==group)&(gb.diagnosis=='CD')],\n",
    "                  x='antigen_species', \n",
    "                  y='N_fraction',\n",
    "                    # hue='antigen_species',\n",
    "                  color = '#F80106',\n",
    "                  dodge=True,\n",
    "                  #palette={'CD':'#F80106'', 'HD':'#484748'},\n",
    "                  ax=ax,\n",
    "                    size=10)\n",
    "    sns.despine()\n",
    "    ax.legend([],[], frameon=False)\n",
    "    #ax.legend(bbox_to_anchor=(1, 1.05))\n",
    "    ax.set_ylabel('')\n",
    "    ax.set_xlabel('')\n",
    "    ax.set_ylim(0,0.75)\n",
    "    ax.set_title('')\n",
    "    ax.tick_params('x', rotation=90)\n",
    "    ax.get_yaxis().set_visible(False)\n",
    "\n",
    "\n",
    "plt.tight_layout()\n",
    "plt.subplots_adjust(hspace=1, wspace=0.01)"
   ]
  },
  {
   "cell_type": "code",
   "execution_count": null,
   "id": "5c49dfa0",
   "metadata": {
    "ExecuteTime": {
     "end_time": "2023-04-19T17:12:53.326754Z",
     "start_time": "2023-04-19T17:12:51.663200Z"
    }
   },
   "outputs": [],
   "source": [
    "fungi_downsampled.obs['N'] = 1\n",
    "gb = fungi_downsampled.obs.groupby(['diagnosis','donor','Cluster','clone_id']).aggregate('count')['N'].reset_index()\n",
    "\n",
    "Gini_all = []\n",
    "for donor in gb.donor.unique():\n",
    "    gb_donor = gb[(gb['donor']==donor)]\n",
    "    clone_counts = pd.pivot_table(data=gb_donor, values='N', index='clone_id', columns='Cluster', aggfunc='sum')\n",
    "    #clone_counts = clone_counts.fillna(0)\n",
    "    gini_donor=clone_counts.apply(lambda col: gini(col[col>0])).to_frame(name='Gini index')\n",
    "    gini_donor['donor'] = donor\n",
    "    gini_donor['diagnosis'] = donor[:2]\n",
    "    Gini_all.append(gini_donor)\n",
    "    \n",
    "\n",
    "Gini_all = pd.concat(Gini_all).reset_index()\n",
    "\n",
    "fig,ax = plt.subplots(figsize=(5,5))\n",
    "sns.set_style('ticks')\n",
    "sns.boxplot(data=Gini_all, x='Cluster', y='Gini index', hue='diagnosis', palette=diagnosis_colors)\n",
    "sns.swarmplot(data=Gini_all, x='Cluster', y='Gini index', hue='diagnosis', color='black', dodge=True)\n",
    "ax.set_xlabel('')\n",
    "ax.tick_params(axis='x', rotation=90)\n",
    "ax.set_title('Gini index')\n",
    "\n",
    "plt.tight_layout()\n",
    "plt.savefig('figures/downsampled_Gini_clusters.pdf')"
   ]
  }
 ],
 "metadata": {
  "kernelspec": {
   "display_name": "Python 3 (ipykernel)",
   "language": "python",
   "name": "python3"
  },
  "language_info": {
   "codemirror_mode": {
    "name": "ipython",
    "version": 3
   },
   "file_extension": ".py",
   "mimetype": "text/x-python",
   "name": "python",
   "nbconvert_exporter": "python",
   "pygments_lexer": "ipython3",
   "version": "3.10.6"
  },
  "toc": {
   "base_numbering": 1,
   "nav_menu": {},
   "number_sections": true,
   "sideBar": true,
   "skip_h1_title": false,
   "title_cell": "Table of Contents",
   "title_sidebar": "Contents",
   "toc_cell": false,
   "toc_position": {
    "height": "805.556px",
    "left": "23px",
    "top": "110.113px",
    "width": "410.215px"
   },
   "toc_section_display": true,
   "toc_window_display": true
  }
 },
 "nbformat": 4,
 "nbformat_minor": 5
}
